{
 "cells": [
  {
   "cell_type": "code",
   "execution_count": 1,
   "metadata": {},
   "outputs": [
    {
     "data": {
      "text/plain": [
       "Index(['lesson_module', 'lesson_name', 'transcription'], dtype='object')"
      ]
     },
     "execution_count": 1,
     "metadata": {},
     "output_type": "execute_result"
    }
   ],
   "source": [
    "import pandas as pd\n",
    "df = pd.read_parquet('/data/nate/school/lectures/transcriptions.parquet')\n",
    "df.columns"
   ]
  },
  {
   "cell_type": "code",
   "execution_count": 2,
   "metadata": {},
   "outputs": [
    {
     "data": {
      "text/html": [
       "<div>\n",
       "<style scoped>\n",
       "    .dataframe tbody tr th:only-of-type {\n",
       "        vertical-align: middle;\n",
       "    }\n",
       "\n",
       "    .dataframe tbody tr th {\n",
       "        vertical-align: top;\n",
       "    }\n",
       "\n",
       "    .dataframe thead th {\n",
       "        text-align: right;\n",
       "    }\n",
       "</style>\n",
       "<table border=\"1\" class=\"dataframe\">\n",
       "  <thead>\n",
       "    <tr style=\"text-align: right;\">\n",
       "      <th></th>\n",
       "      <th>lesson_module</th>\n",
       "      <th>lesson_name</th>\n",
       "      <th>transcription</th>\n",
       "    </tr>\n",
       "  </thead>\n",
       "  <tbody>\n",
       "    <tr>\n",
       "      <th>0</th>\n",
       "      <td>26___Wrap_Up</td>\n",
       "      <td>635 - The Second Principle</td>\n",
       "      <td>Our second main principle for CS7637 was that...</td>\n",
       "    </tr>\n",
       "    <tr>\n",
       "      <th>1</th>\n",
       "      <td>26___Wrap_Up</td>\n",
       "      <td>639 - The Sixth Principle</td>\n",
       "      <td>Our sixth principle was that knowledge-based ...</td>\n",
       "    </tr>\n",
       "    <tr>\n",
       "      <th>2</th>\n",
       "      <td>26___Wrap_Up</td>\n",
       "      <td>636 - The Third Principle</td>\n",
       "      <td>The third principle of knowledge-based AI age...</td>\n",
       "    </tr>\n",
       "    <tr>\n",
       "      <th>3</th>\n",
       "      <td>26___Wrap_Up</td>\n",
       "      <td>638 - The Fifth Principle</td>\n",
       "      <td>The fifth principle of knowledge-based AI, as...</td>\n",
       "    </tr>\n",
       "    <tr>\n",
       "      <th>4</th>\n",
       "      <td>26___Wrap_Up</td>\n",
       "      <td>637 - The Fourth Principle</td>\n",
       "      <td>Our fourth principle was that knowledge-based...</td>\n",
       "    </tr>\n",
       "    <tr>\n",
       "      <th>...</th>\n",
       "      <td>...</td>\n",
       "      <td>...</td>\n",
       "      <td>...</td>\n",
       "    </tr>\n",
       "    <tr>\n",
       "      <th>634</th>\n",
       "      <td>04___Generate_&amp;_Test</td>\n",
       "      <td>105 - Final Quiz Question</td>\n",
       "      <td>Once again, will you please complete the quiz...</td>\n",
       "    </tr>\n",
       "    <tr>\n",
       "      <th>635</th>\n",
       "      <td>04___Generate_&amp;_Test</td>\n",
       "      <td>98 - Discussion_ Smart Generators and Testers ...</td>\n",
       "      <td>David is right.  The tester could in fact tes...</td>\n",
       "    </tr>\n",
       "    <tr>\n",
       "      <th>636</th>\n",
       "      <td>04___Generate_&amp;_Test</td>\n",
       "      <td>102 - Assignment_ Generate &amp; Test</td>\n",
       "      <td>So how would you use generate and test to act...</td>\n",
       "    </tr>\n",
       "    <tr>\n",
       "      <th>637</th>\n",
       "      <td>04___Generate_&amp;_Test</td>\n",
       "      <td>106 - Final Quiz Solution</td>\n",
       "      <td>Great, thank you so much for your feedback.</td>\n",
       "    </tr>\n",
       "    <tr>\n",
       "      <th>638</th>\n",
       "      <td>04___Generate_&amp;_Test</td>\n",
       "      <td>97 - Discussion_ Smart Generators and Testers ...</td>\n",
       "      <td>Recall that we had this state as a kind of ha...</td>\n",
       "    </tr>\n",
       "  </tbody>\n",
       "</table>\n",
       "<p>639 rows × 3 columns</p>\n",
       "</div>"
      ],
      "text/plain": [
       "            lesson_module                                        lesson_name  \\\n",
       "0            26___Wrap_Up                         635 - The Second Principle   \n",
       "1            26___Wrap_Up                          639 - The Sixth Principle   \n",
       "2            26___Wrap_Up                          636 - The Third Principle   \n",
       "3            26___Wrap_Up                          638 - The Fifth Principle   \n",
       "4            26___Wrap_Up                         637 - The Fourth Principle   \n",
       "..                    ...                                                ...   \n",
       "634  04___Generate_&_Test                          105 - Final Quiz Question   \n",
       "635  04___Generate_&_Test  98 - Discussion_ Smart Generators and Testers ...   \n",
       "636  04___Generate_&_Test                  102 - Assignment_ Generate & Test   \n",
       "637  04___Generate_&_Test                          106 - Final Quiz Solution   \n",
       "638  04___Generate_&_Test  97 - Discussion_ Smart Generators and Testers ...   \n",
       "\n",
       "                                         transcription  \n",
       "0     Our second main principle for CS7637 was that...  \n",
       "1     Our sixth principle was that knowledge-based ...  \n",
       "2     The third principle of knowledge-based AI age...  \n",
       "3     The fifth principle of knowledge-based AI, as...  \n",
       "4     Our fourth principle was that knowledge-based...  \n",
       "..                                                 ...  \n",
       "634   Once again, will you please complete the quiz...  \n",
       "635   David is right.  The tester could in fact tes...  \n",
       "636   So how would you use generate and test to act...  \n",
       "637        Great, thank you so much for your feedback.  \n",
       "638   Recall that we had this state as a kind of ha...  \n",
       "\n",
       "[639 rows x 3 columns]"
      ]
     },
     "execution_count": 2,
     "metadata": {},
     "output_type": "execute_result"
    }
   ],
   "source": [
    "df"
   ]
  },
  {
   "cell_type": "code",
   "execution_count": 4,
   "metadata": {},
   "outputs": [
    {
     "name": "stdout",
     "output_type": "stream",
     "text": [
      " David, did you solve this problem?  So just like the original state, there could be five moves that come out of this.  Two of the moves we can already say are illegal.  Moving two guards would have more prisoners than guards on the left,  and moving one guard and one prisoner would end up with too many prisoners on the right.  So we don't include those states.  Then our three legal moves are to move one prisoner, two prisoners, or one guard.  But now I notice that this state is actually identical to this state.  Like we said before, once we're in a state, we don't really care how we got there,  so going back to an earlier state is not a productive move.  So we can rule this out as an unproductive move.  Similarly, this state is the same as this state.  So we can rule this out as an unproductive move as well.  That leaves us with only one legal productive move  that can follow from the previous state.  That is a very good point, David.  So this representation is a good representation for this problem  because it is making all the constraints of the problem solving explicit.  So that we can quickly compare states and  see which moves are productive and which moves are not productive.  I can tell you that when I tried to solve this problem on my own,  it took me a while because I didn't recognize the fact that I kept going  around in a circle because I didn't realize I kept coming back to the exact  same state.  In fact, David, most of us have the same difficulty.  So the power of this semantic network as a representation is arising because  that allows us to systematically solve this problem because it makes all the  constraints, all the objects, all the relationships, all the moves very explicit.\n"
     ]
    }
   ],
   "source": [
    "print(df['transcription'].iloc[99])"
   ]
  }
 ],
 "metadata": {
  "kernelspec": {
   "display_name": "venv",
   "language": "python",
   "name": "python3"
  },
  "language_info": {
   "codemirror_mode": {
    "name": "ipython",
    "version": 3
   },
   "file_extension": ".py",
   "mimetype": "text/x-python",
   "name": "python",
   "nbconvert_exporter": "python",
   "pygments_lexer": "ipython3",
   "version": "3.10.12"
  }
 },
 "nbformat": 4,
 "nbformat_minor": 2
}
